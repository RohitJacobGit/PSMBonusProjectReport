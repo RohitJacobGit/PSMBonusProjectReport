{
 "cells": [
  {
   "cell_type": "code",
   "execution_count": 1,
   "metadata": {},
   "outputs": [],
   "source": [
    "import pandas as pd\n",
    "import numpy as np\n",
    "import matplotlib.pyplot as plt\n",
    "import seaborn as sns\n",
    "from scipy import stats\n",
    "from sklearn.preprocessing import LabelEncoder\n",
    "from sklearn.cluster import KMeans\n",
    "from sklearn.datasets import make_blobs\n",
    "from mpl_toolkits.mplot3d import Axes3D\n",
    "\n",
    "%matplotlib inline"
   ]
  },
  {
   "cell_type": "code",
   "execution_count": 2,
   "metadata": {},
   "outputs": [],
   "source": [
    "df_2008 = pd.read_excel('/Users/rohitanand/OneDrive - Jacobs University/Statistics/Udacity/data/all_alpha_08.xls')\n",
    "#df_2008.head()"
   ]
  },
  {
   "cell_type": "code",
   "execution_count": 191,
   "metadata": {},
   "outputs": [],
   "source": [
    "# Creating index, if required\n",
    "# df_2008.reset_index(inplace=True)\n",
    "# df_2008.set_index('index')\n",
    "\n",
    "# Alternative\n",
    "# df_2008.index = np.arange(0, len(df_2008))\n",
    "# df_2008.index.name = 'Index'"
   ]
  },
  {
   "cell_type": "code",
   "execution_count": 175,
   "metadata": {
    "collapsed": true
   },
   "outputs": [
    {
     "name": "stdout",
     "output_type": "stream",
     "text": [
      "<class 'pandas.core.frame.DataFrame'>\n",
      "RangeIndex: 2404 entries, 0 to 2403\n",
      "Data columns (total 18 columns):\n",
      "Model                   2404 non-null object\n",
      "Displ                   2404 non-null float64\n",
      "Cyl                     2205 non-null object\n",
      "Trans                   2205 non-null object\n",
      "Drive                   2311 non-null object\n",
      "Fuel                    2404 non-null object\n",
      "Sales Area              2404 non-null object\n",
      "Stnd                    2404 non-null object\n",
      "Underhood ID            2404 non-null object\n",
      "Veh Class               2404 non-null object\n",
      "Air Pollution Score     2404 non-null object\n",
      "FE Calc Appr            2205 non-null object\n",
      "City MPG                2205 non-null object\n",
      "Hwy MPG                 2205 non-null object\n",
      "Cmb MPG                 2205 non-null object\n",
      "Unadj Cmb MPG           2205 non-null float64\n",
      "Greenhouse Gas Score    2205 non-null object\n",
      "SmartWay                2404 non-null object\n",
      "dtypes: float64(2), object(16)\n",
      "memory usage: 338.2+ KB\n"
     ]
    }
   ],
   "source": [
    "# To view size of the file, features in the dataset and their datatypes\n",
    "df_2008.info()"
   ]
  },
  {
   "cell_type": "markdown",
   "metadata": {},
   "source": [
    "#### Dropping the unnecessary columns"
   ]
  },
  {
   "cell_type": "code",
   "execution_count": 3,
   "metadata": {},
   "outputs": [],
   "source": [
    "df_2008.drop(labels=['Stnd', 'Underhood ID', 'FE Calc Appr', 'Unadj Cmb MPG'],axis=1,inplace=True)"
   ]
  },
  {
   "cell_type": "markdown",
   "metadata": {},
   "source": [
    "#### Rename Sales Area to CERT Region for a better understanding"
   ]
  },
  {
   "cell_type": "code",
   "execution_count": 4,
   "metadata": {},
   "outputs": [],
   "source": [
    "df_2008.rename(columns={'Sales Area':'Cert Region'},inplace=True)"
   ]
  },
  {
   "cell_type": "markdown",
   "metadata": {},
   "source": [
    "#### Data Value Space"
   ]
  },
  {
   "cell_type": "code",
   "execution_count": 6,
   "metadata": {
    "collapsed": true
   },
   "outputs": [
    {
     "data": {
      "text/plain": [
       "[1.3,\n",
       " 1.5,\n",
       " 1.6,\n",
       " 1.8,\n",
       " 2.0,\n",
       " 2.2,\n",
       " 2.3,\n",
       " 2.4,\n",
       " 2.5,\n",
       " 2.7,\n",
       " 2.8,\n",
       " 2.9,\n",
       " 3.0,\n",
       " 3.1,\n",
       " 3.2,\n",
       " 3.3,\n",
       " 3.4,\n",
       " 3.5,\n",
       " 3.6,\n",
       " 3.7,\n",
       " 3.8,\n",
       " 3.9,\n",
       " 4.0,\n",
       " 4.2,\n",
       " 4.3,\n",
       " 4.4,\n",
       " 4.5,\n",
       " 4.6,\n",
       " 4.7,\n",
       " 4.8,\n",
       " 5.0,\n",
       " 5.2,\n",
       " 5.3,\n",
       " 5.4,\n",
       " 5.5,\n",
       " 5.6,\n",
       " 5.7,\n",
       " 5.9,\n",
       " 6.0,\n",
       " 6.1,\n",
       " 6.2,\n",
       " 6.5,\n",
       " 6.7,\n",
       " 6.8,\n",
       " 7.0,\n",
       " 8.0,\n",
       " 8.4]"
      ]
     },
     "execution_count": 6,
     "metadata": {},
     "output_type": "execute_result"
    }
   ],
   "source": [
    "sorted(df_2008['Displ'].value_counts().index)"
   ]
  },
  {
   "cell_type": "code",
   "execution_count": 7,
   "metadata": {
    "collapsed": true
   },
   "outputs": [
    {
     "data": {
      "text/plain": [
       "['(10 cyl)',\n",
       " '(12 cyl)',\n",
       " '(16 cyl)',\n",
       " '(2 cyl)',\n",
       " '(4 cyl)',\n",
       " '(5 cyl)',\n",
       " '(6 cyl)',\n",
       " '(8 cyl)']"
      ]
     },
     "execution_count": 7,
     "metadata": {},
     "output_type": "execute_result"
    }
   ],
   "source": [
    "sorted(df_2008['Cyl'].value_counts().index)"
   ]
  },
  {
   "cell_type": "code",
   "execution_count": null,
   "metadata": {},
   "outputs": [],
   "source": [
    "# Processing done at a later stage to spearate these values\n",
    "sorted(df_2008['Air Pollution Score'].value_counts().index)"
   ]
  },
  {
   "cell_type": "code",
   "execution_count": 7,
   "metadata": {
    "collapsed": true
   },
   "outputs": [
    {
     "data": {
      "text/plain": [
       "['10',\n",
       " '10/13',\n",
       " '10/14',\n",
       " '11',\n",
       " '11/14',\n",
       " '11/15',\n",
       " '11/17',\n",
       " '12',\n",
       " '12/16',\n",
       " '13',\n",
       " '13/18',\n",
       " '13/19',\n",
       " '14',\n",
       " '14/18',\n",
       " '15',\n",
       " '16',\n",
       " '17',\n",
       " '18',\n",
       " '19',\n",
       " '20',\n",
       " '21',\n",
       " '22',\n",
       " '23',\n",
       " '24',\n",
       " '25',\n",
       " '26',\n",
       " '27',\n",
       " '28',\n",
       " '29',\n",
       " '33',\n",
       " '34',\n",
       " '35',\n",
       " '40',\n",
       " '48',\n",
       " '8',\n",
       " '9',\n",
       " '9/12',\n",
       " '9/13',\n",
       " '9/14']"
      ]
     },
     "execution_count": 7,
     "metadata": {},
     "output_type": "execute_result"
    }
   ],
   "source": [
    "# Processing done at a later stage to spearate these values\n",
    "sorted(df_2008['City MPG'].value_counts().index)"
   ]
  },
  {
   "cell_type": "code",
   "execution_count": 8,
   "metadata": {
    "collapsed": true
   },
   "outputs": [
    {
     "data": {
      "text/plain": [
       "['12/16',\n",
       " '12/17',\n",
       " '12/18',\n",
       " '12/19',\n",
       " '13',\n",
       " '13/17',\n",
       " '13/18',\n",
       " '13/19',\n",
       " '14',\n",
       " '14/19',\n",
       " '15',\n",
       " '15/20',\n",
       " '16',\n",
       " '16/23',\n",
       " '17',\n",
       " '17/23',\n",
       " '17/24',\n",
       " '18',\n",
       " '19',\n",
       " '19/25',\n",
       " '19/26',\n",
       " '20',\n",
       " '20/27',\n",
       " '20/28',\n",
       " '21',\n",
       " '21/29',\n",
       " '22',\n",
       " '23',\n",
       " '24',\n",
       " '25',\n",
       " '26',\n",
       " '27',\n",
       " '28',\n",
       " '29',\n",
       " '30',\n",
       " '31',\n",
       " '32',\n",
       " '33',\n",
       " '34',\n",
       " '35',\n",
       " '36',\n",
       " '37',\n",
       " '45']"
      ]
     },
     "execution_count": 8,
     "metadata": {},
     "output_type": "execute_result"
    }
   ],
   "source": [
    "# Processing done at a later stage to spearate these values\n",
    "sorted(df_2008['Hwy MPG'].value_counts().index)"
   ]
  },
  {
   "cell_type": "code",
   "execution_count": 9,
   "metadata": {
    "collapsed": true
   },
   "outputs": [
    {
     "data": {
      "text/plain": [
       "['10',\n",
       " '10/14',\n",
       " '10/15',\n",
       " '11',\n",
       " '11/15',\n",
       " '12',\n",
       " '12/15',\n",
       " '12/16',\n",
       " '13',\n",
       " '13/17',\n",
       " '13/18',\n",
       " '13/19',\n",
       " '14',\n",
       " '14/19',\n",
       " '15',\n",
       " '15/21',\n",
       " '16',\n",
       " '16/21',\n",
       " '16/22',\n",
       " '17',\n",
       " '18',\n",
       " '19',\n",
       " '20',\n",
       " '21',\n",
       " '22',\n",
       " '23',\n",
       " '24',\n",
       " '25',\n",
       " '26',\n",
       " '27',\n",
       " '28',\n",
       " '29',\n",
       " '30',\n",
       " '31',\n",
       " '32',\n",
       " '34',\n",
       " '42',\n",
       " '46']"
      ]
     },
     "execution_count": 9,
     "metadata": {},
     "output_type": "execute_result"
    }
   ],
   "source": [
    "# Processing done at a later stage to spearate these values\n",
    "sorted(df_2008['Cmb MPG'].value_counts().index)"
   ]
  },
  {
   "cell_type": "code",
   "execution_count": 10,
   "metadata": {
    "collapsed": true
   },
   "outputs": [
    {
     "data": {
      "text/plain": [
       "['0',\n",
       " '1',\n",
       " '10',\n",
       " '2',\n",
       " '3',\n",
       " '4',\n",
       " '4/2',\n",
       " '4/3',\n",
       " '5',\n",
       " '5/3',\n",
       " '6',\n",
       " '6/3',\n",
       " '6/4',\n",
       " '6/5',\n",
       " '7',\n",
       " '7/5',\n",
       " '7/6',\n",
       " '8',\n",
       " '8/6',\n",
       " '9']"
      ]
     },
     "execution_count": 10,
     "metadata": {},
     "output_type": "execute_result"
    }
   ],
   "source": [
    "# Processing done at a later stage to spearate these values\n",
    "sorted(df_2008['Greenhouse Gas Score'].value_counts().index)"
   ]
  },
  {
   "cell_type": "code",
   "execution_count": 184,
   "metadata": {
    "scrolled": true
   },
   "outputs": [],
   "source": [
    "# Convert categorical to numerical columns which we don't do here as we have sufficient features for analysis\n",
    "# print(df_2008['trans'].value_counts())\n",
    "# array_trans = df_2008['trans'].values\n",
    "# encoder = LabelEncoder()\n",
    "# array_trans = encoder.fit_transform(array_trans)"
   ]
  },
  {
   "cell_type": "markdown",
   "metadata": {},
   "source": [
    "#### Renaming the columns for easier accessibility"
   ]
  },
  {
   "cell_type": "code",
   "execution_count": 8,
   "metadata": {},
   "outputs": [],
   "source": [
    "# Replacing blank space by an underscore in the column names\n",
    "df_2008.rename(columns=lambda x:x.strip().lower().replace(' ','_'),inplace=True)"
   ]
  },
  {
   "cell_type": "code",
   "execution_count": 9,
   "metadata": {},
   "outputs": [
    {
     "data": {
      "text/plain": [
       "Index(['model', 'displ', 'cyl', 'trans', 'drive', 'fuel', 'cert_region',\n",
       "       'veh_class', 'air_pollution_score', 'city_mpg', 'hwy_mpg', 'cmb_mpg',\n",
       "       'greenhouse_gas_score', 'smartway'],\n",
       "      dtype='object')"
      ]
     },
     "execution_count": 9,
     "metadata": {},
     "output_type": "execute_result"
    }
   ],
   "source": [
    "df_2008.columns"
   ]
  },
  {
   "cell_type": "markdown",
   "metadata": {},
   "source": [
    "#### Rows with null values"
   ]
  },
  {
   "cell_type": "code",
   "execution_count": 10,
   "metadata": {
    "collapsed": true
   },
   "outputs": [
    {
     "data": {
      "text/plain": [
       "model                     0\n",
       "displ                     0\n",
       "cyl                     199\n",
       "trans                   199\n",
       "drive                    93\n",
       "fuel                      0\n",
       "cert_region               0\n",
       "veh_class                 0\n",
       "air_pollution_score       0\n",
       "city_mpg                199\n",
       "hwy_mpg                 199\n",
       "cmb_mpg                 199\n",
       "greenhouse_gas_score    199\n",
       "smartway                  0\n",
       "dtype: int64"
      ]
     },
     "execution_count": 10,
     "metadata": {},
     "output_type": "execute_result"
    }
   ],
   "source": [
    "df_2008.isna().sum()"
   ]
  },
  {
   "cell_type": "code",
   "execution_count": 92,
   "metadata": {},
   "outputs": [],
   "source": [
    "# View the rows with null vals\n",
    "# df_2008[df_2008['cyl'].isna()==True]"
   ]
  },
  {
   "cell_type": "code",
   "execution_count": 11,
   "metadata": {},
   "outputs": [],
   "source": [
    "# Dropping rows with null vals\n",
    "# Although these null vals can be replaced by mean, median, mode or any other Machine Learning Techniques\n",
    "df_2008.dropna(axis=0, inplace=True)"
   ]
  },
  {
   "cell_type": "code",
   "execution_count": 12,
   "metadata": {},
   "outputs": [
    {
     "data": {
      "text/plain": [
       "False"
      ]
     },
     "execution_count": 12,
     "metadata": {},
     "output_type": "execute_result"
    }
   ],
   "source": [
    "# Verify if any of columns in 2008 have null values: should print False\n",
    "df_2008.isnull().sum().any()"
   ]
  },
  {
   "cell_type": "markdown",
   "metadata": {},
   "source": [
    "#### Duplicate rows"
   ]
  },
  {
   "cell_type": "code",
   "execution_count": 13,
   "metadata": {},
   "outputs": [
    {
     "data": {
      "text/plain": [
       "63"
      ]
     },
     "execution_count": 13,
     "metadata": {},
     "output_type": "execute_result"
    }
   ],
   "source": [
    "# Total number of duplicate rows\n",
    "sum(df_2008.duplicated())"
   ]
  },
  {
   "cell_type": "code",
   "execution_count": 14,
   "metadata": {},
   "outputs": [],
   "source": [
    "# Duplicate rows dropped\n",
    "df_2008.drop_duplicates(inplace=True)"
   ]
  },
  {
   "cell_type": "code",
   "execution_count": 202,
   "metadata": {
    "collapsed": true
   },
   "outputs": [
    {
     "data": {
      "text/plain": [
       "(6 cyl)     836\n",
       "(4 cyl)     582\n",
       "(8 cyl)     516\n",
       "(5 cyl)     113\n",
       "(12 cyl)     60\n",
       "(10 cyl)     29\n",
       "(2 cyl)       4\n",
       "(16 cyl)      2\n",
       "Name: cyl, dtype: int64"
      ]
     },
     "execution_count": 202,
     "metadata": {},
     "output_type": "execute_result"
    }
   ],
   "source": [
    "# Extracting the numerical values from this column\n",
    "df_2008['cyl'].value_counts()"
   ]
  },
  {
   "cell_type": "code",
   "execution_count": 15,
   "metadata": {},
   "outputs": [],
   "source": [
    "df_2008['cyl'] = df_2008['cyl'].str.extract('(\\d+)').astype(int)"
   ]
  },
  {
   "cell_type": "code",
   "execution_count": 204,
   "metadata": {
    "collapsed": true
   },
   "outputs": [
    {
     "data": {
      "text/plain": [
       "6     836\n",
       "4     582\n",
       "8     516\n",
       "5     113\n",
       "12     60\n",
       "10     29\n",
       "2       4\n",
       "16      2\n",
       "Name: cyl, dtype: int64"
      ]
     },
     "execution_count": 204,
     "metadata": {},
     "output_type": "execute_result"
    }
   ],
   "source": [
    "df_2008['cyl'].value_counts()"
   ]
  },
  {
   "cell_type": "code",
   "execution_count": 16,
   "metadata": {},
   "outputs": [],
   "source": [
    "# Filtering the hybrid vehicles \n",
    "hybrid_2008 = df_2008[df_2008['fuel'].str.contains('/')==True]"
   ]
  },
  {
   "cell_type": "code",
   "execution_count": 19,
   "metadata": {
    "collapsed": true
   },
   "outputs": [
    {
     "data": {
      "text/html": [
       "<div>\n",
       "<style scoped>\n",
       "    .dataframe tbody tr th:only-of-type {\n",
       "        vertical-align: middle;\n",
       "    }\n",
       "\n",
       "    .dataframe tbody tr th {\n",
       "        vertical-align: top;\n",
       "    }\n",
       "\n",
       "    .dataframe thead th {\n",
       "        text-align: right;\n",
       "    }\n",
       "</style>\n",
       "<table border=\"1\" class=\"dataframe\">\n",
       "  <thead>\n",
       "    <tr style=\"text-align: right;\">\n",
       "      <th></th>\n",
       "      <th>model</th>\n",
       "      <th>displ</th>\n",
       "      <th>cyl</th>\n",
       "      <th>trans</th>\n",
       "      <th>drive</th>\n",
       "      <th>fuel</th>\n",
       "      <th>cert_region</th>\n",
       "      <th>veh_class</th>\n",
       "      <th>air_pollution_score</th>\n",
       "      <th>city_mpg</th>\n",
       "      <th>hwy_mpg</th>\n",
       "      <th>cmb_mpg</th>\n",
       "      <th>greenhouse_gas_score</th>\n",
       "      <th>smartway</th>\n",
       "    </tr>\n",
       "  </thead>\n",
       "  <tbody>\n",
       "    <tr>\n",
       "      <td>316</td>\n",
       "      <td>CHEVROLET Avalanche 1500</td>\n",
       "      <td>5.3</td>\n",
       "      <td>8</td>\n",
       "      <td>Auto-L4</td>\n",
       "      <td>2WD</td>\n",
       "      <td>ethanol/gas</td>\n",
       "      <td>FC</td>\n",
       "      <td>SUV</td>\n",
       "      <td>7/7</td>\n",
       "      <td>11/14</td>\n",
       "      <td>15/20</td>\n",
       "      <td>12/16</td>\n",
       "      <td>6/4</td>\n",
       "      <td>no</td>\n",
       "    </tr>\n",
       "    <tr>\n",
       "      <td>317</td>\n",
       "      <td>CHEVROLET Avalanche 1500</td>\n",
       "      <td>5.3</td>\n",
       "      <td>8</td>\n",
       "      <td>Auto-L4</td>\n",
       "      <td>4WD</td>\n",
       "      <td>ethanol/gas</td>\n",
       "      <td>FC</td>\n",
       "      <td>SUV</td>\n",
       "      <td>7/7</td>\n",
       "      <td>11/14</td>\n",
       "      <td>14/19</td>\n",
       "      <td>12/16</td>\n",
       "      <td>6/4</td>\n",
       "      <td>no</td>\n",
       "    </tr>\n",
       "    <tr>\n",
       "      <td>321</td>\n",
       "      <td>CHEVROLET Avalanche 1500</td>\n",
       "      <td>5.3</td>\n",
       "      <td>8</td>\n",
       "      <td>Auto-L4</td>\n",
       "      <td>2WD</td>\n",
       "      <td>ethanol/gas</td>\n",
       "      <td>FC</td>\n",
       "      <td>SUV</td>\n",
       "      <td>6/6</td>\n",
       "      <td>11/14</td>\n",
       "      <td>15/20</td>\n",
       "      <td>12/16</td>\n",
       "      <td>6/4</td>\n",
       "      <td>no</td>\n",
       "    </tr>\n",
       "    <tr>\n",
       "      <td>322</td>\n",
       "      <td>CHEVROLET Avalanche 1500</td>\n",
       "      <td>5.3</td>\n",
       "      <td>8</td>\n",
       "      <td>Auto-L4</td>\n",
       "      <td>4WD</td>\n",
       "      <td>ethanol/gas</td>\n",
       "      <td>FC</td>\n",
       "      <td>SUV</td>\n",
       "      <td>6/6</td>\n",
       "      <td>11/14</td>\n",
       "      <td>14/19</td>\n",
       "      <td>12/16</td>\n",
       "      <td>6/4</td>\n",
       "      <td>no</td>\n",
       "    </tr>\n",
       "    <tr>\n",
       "      <td>380</td>\n",
       "      <td>CHEVROLET Express 1500</td>\n",
       "      <td>5.3</td>\n",
       "      <td>8</td>\n",
       "      <td>Auto-L4</td>\n",
       "      <td>4WD</td>\n",
       "      <td>ethanol/gas</td>\n",
       "      <td>FC</td>\n",
       "      <td>van</td>\n",
       "      <td>6/6</td>\n",
       "      <td>9/12</td>\n",
       "      <td>12/16</td>\n",
       "      <td>10/14</td>\n",
       "      <td>4/2</td>\n",
       "      <td>no</td>\n",
       "    </tr>\n",
       "  </tbody>\n",
       "</table>\n",
       "</div>"
      ],
      "text/plain": [
       "                        model  displ  cyl    trans drive         fuel  \\\n",
       "316  CHEVROLET Avalanche 1500    5.3    8  Auto-L4   2WD  ethanol/gas   \n",
       "317  CHEVROLET Avalanche 1500    5.3    8  Auto-L4   4WD  ethanol/gas   \n",
       "321  CHEVROLET Avalanche 1500    5.3    8  Auto-L4   2WD  ethanol/gas   \n",
       "322  CHEVROLET Avalanche 1500    5.3    8  Auto-L4   4WD  ethanol/gas   \n",
       "380    CHEVROLET Express 1500    5.3    8  Auto-L4   4WD  ethanol/gas   \n",
       "\n",
       "    cert_region veh_class air_pollution_score city_mpg hwy_mpg cmb_mpg  \\\n",
       "316          FC       SUV                 7/7    11/14   15/20   12/16   \n",
       "317          FC       SUV                 7/7    11/14   14/19   12/16   \n",
       "321          FC       SUV                 6/6    11/14   15/20   12/16   \n",
       "322          FC       SUV                 6/6    11/14   14/19   12/16   \n",
       "380          FC       van                 6/6     9/12   12/16   10/14   \n",
       "\n",
       "    greenhouse_gas_score smartway  \n",
       "316                  6/4       no  \n",
       "317                  6/4       no  \n",
       "321                  6/4       no  \n",
       "322                  6/4       no  \n",
       "380                  4/2       no  "
      ]
     },
     "execution_count": 19,
     "metadata": {},
     "output_type": "execute_result"
    }
   ],
   "source": [
    "# 'fuel', 'air_pollution_score', 'city_mpg', 'hwy_mpg', 'cmb_mpg', 'greenhouse_gas_score' \n",
    "# The above columns have properties of a hybrid vehicle which needs to be splitted\n",
    "hybrid_2008.head()"
   ]
  },
  {
   "cell_type": "code",
   "execution_count": 17,
   "metadata": {},
   "outputs": [],
   "source": [
    "# Copying temporary dataframes\n",
    "copy_1_hybrid_2008 = hybrid_2008.copy()\n",
    "copy_2_hybrid_2008 = hybrid_2008.copy()"
   ]
  },
  {
   "cell_type": "code",
   "execution_count": 208,
   "metadata": {
    "collapsed": true
   },
   "outputs": [
    {
     "data": {
      "text/plain": [
       "316     [ethanol, gas]\n",
       "317     [ethanol, gas]\n",
       "321     [ethanol, gas]\n",
       "322     [ethanol, gas]\n",
       "380     [ethanol, gas]\n",
       "             ...      \n",
       "1734    [ethanol, gas]\n",
       "1764    [ethanol, gas]\n",
       "1765    [ethanol, gas]\n",
       "1808    [ethanol, gas]\n",
       "1809    [ethanol, gas]\n",
       "Name: fuel, Length: 65, dtype: object"
      ]
     },
     "execution_count": 208,
     "metadata": {},
     "output_type": "execute_result"
    }
   ],
   "source": [
    "# Example of splitting, the values will be extracted and new rows will be created for both ethanol and gas\n",
    "hybrid_2008['fuel'].str.split('/')"
   ]
  },
  {
   "cell_type": "code",
   "execution_count": 18,
   "metadata": {},
   "outputs": [],
   "source": [
    "# Splitting for these columns\n",
    "split_columns = ['fuel', 'air_pollution_score', 'city_mpg', 'hwy_mpg', 'cmb_mpg', 'greenhouse_gas_score']\n",
    "\n",
    "for col in split_columns:\n",
    "    copy_1_hybrid_2008[col] = copy_1_hybrid_2008[col].apply(lambda x:x.split('/')[0])\n",
    "    copy_2_hybrid_2008[col] = copy_2_hybrid_2008[col].apply(lambda x:x.split('/')[1])"
   ]
  },
  {
   "cell_type": "code",
   "execution_count": 19,
   "metadata": {},
   "outputs": [],
   "source": [
    "# Appeding the rows which were splitted\n",
    "new_rows = copy_1_hybrid_2008.append(copy_2_hybrid_2008)"
   ]
  },
  {
   "cell_type": "code",
   "execution_count": 20,
   "metadata": {},
   "outputs": [],
   "source": [
    "# Drop rows with ethanol/gas as fuel in the original table\n",
    "df_2008.drop(hybrid_2008.index,inplace=True) "
   ]
  },
  {
   "cell_type": "code",
   "execution_count": 21,
   "metadata": {},
   "outputs": [],
   "source": [
    "# New dataframe\n",
    "df_2008 = df_2008.append(new_rows,ignore_index=True)"
   ]
  },
  {
   "cell_type": "code",
   "execution_count": 22,
   "metadata": {},
   "outputs": [
    {
     "data": {
      "text/plain": [
       "(2207, 14)"
      ]
     },
     "execution_count": 22,
     "metadata": {},
     "output_type": "execute_result"
    }
   ],
   "source": [
    "df_2008.shape"
   ]
  },
  {
   "cell_type": "code",
   "execution_count": 23,
   "metadata": {},
   "outputs": [],
   "source": [
    "# Covertig datatype \n",
    "for col in df_2008.columns:\n",
    "    if '_mpg' in col:\n",
    "        df_2008[col] = df_2008[col].astype(float)\n",
    "        \n",
    "df_2008['greenhouse_gas_score'] = df_2008['greenhouse_gas_score'].astype(float)\n",
    "df_2008['air_pollution_score'] = df_2008['air_pollution_score'].astype(float)"
   ]
  },
  {
   "cell_type": "code",
   "execution_count": 24,
   "metadata": {},
   "outputs": [],
   "source": [
    "# Mapping function from continuous to discrete space\n",
    "\n",
    "def cont_to_disc(value):\n",
    "    if value>=0 and value<=1:\n",
    "        return 1\n",
    "    elif value>=1 and value<=2:\n",
    "        return 2\n",
    "    elif value>=2 and value<=3:\n",
    "        return 3\n",
    "    elif value>=3 and value<=4:\n",
    "        return 4\n",
    "    elif value>=4 and value<=5:\n",
    "        return 5\n",
    "    elif value>=5 and value<=6:\n",
    "        return 6\n",
    "    elif value>=6 and value<=7:\n",
    "        return 7"
   ]
  },
  {
   "cell_type": "code",
   "execution_count": 25,
   "metadata": {
    "collapsed": true
   },
   "outputs": [
    {
     "data": {
      "text/plain": [
       "0       3.7\n",
       "1       3.7\n",
       "2       2.3\n",
       "3       2.3\n",
       "4       3.5\n",
       "       ... \n",
       "2202    4.7\n",
       "2203    5.6\n",
       "2204    5.6\n",
       "2205    5.6\n",
       "2206    5.6\n",
       "Name: displ, Length: 2207, dtype: float64"
      ]
     },
     "execution_count": 25,
     "metadata": {},
     "output_type": "execute_result"
    }
   ],
   "source": [
    "# Continuous space\n",
    "df_2008['displ']"
   ]
  },
  {
   "cell_type": "code",
   "execution_count": 26,
   "metadata": {},
   "outputs": [],
   "source": [
    "# Mapping function called \n",
    "df_2008['displ'] = df_2008['displ'].apply(cont_to_disc)"
   ]
  },
  {
   "cell_type": "code",
   "execution_count": 27,
   "metadata": {
    "collapsed": true
   },
   "outputs": [
    {
     "data": {
      "text/plain": [
       "0       4.0\n",
       "1       4.0\n",
       "2       3.0\n",
       "3       3.0\n",
       "4       4.0\n",
       "       ... \n",
       "2202    5.0\n",
       "2203    6.0\n",
       "2204    6.0\n",
       "2205    6.0\n",
       "2206    6.0\n",
       "Name: displ, Length: 2207, dtype: float64"
      ]
     },
     "execution_count": 27,
     "metadata": {},
     "output_type": "execute_result"
    }
   ],
   "source": [
    "# Discrete space\n",
    "df_2008['displ']"
   ]
  },
  {
   "cell_type": "code",
   "execution_count": 219,
   "metadata": {
    "collapsed": true
   },
   "outputs": [
    {
     "data": {
      "text/html": [
       "<div>\n",
       "<style scoped>\n",
       "    .dataframe tbody tr th:only-of-type {\n",
       "        vertical-align: middle;\n",
       "    }\n",
       "\n",
       "    .dataframe tbody tr th {\n",
       "        vertical-align: top;\n",
       "    }\n",
       "\n",
       "    .dataframe thead th {\n",
       "        text-align: right;\n",
       "    }\n",
       "</style>\n",
       "<table border=\"1\" class=\"dataframe\">\n",
       "  <thead>\n",
       "    <tr style=\"text-align: right;\">\n",
       "      <th></th>\n",
       "      <th>model</th>\n",
       "      <th>displ</th>\n",
       "      <th>cyl</th>\n",
       "      <th>trans</th>\n",
       "      <th>drive</th>\n",
       "      <th>fuel</th>\n",
       "      <th>cert_region</th>\n",
       "      <th>veh_class</th>\n",
       "      <th>air_pollution_score</th>\n",
       "      <th>city_mpg</th>\n",
       "      <th>hwy_mpg</th>\n",
       "      <th>cmb_mpg</th>\n",
       "      <th>greenhouse_gas_score</th>\n",
       "      <th>smartway</th>\n",
       "    </tr>\n",
       "  </thead>\n",
       "  <tbody>\n",
       "    <tr>\n",
       "      <td>0</td>\n",
       "      <td>ACURA MDX</td>\n",
       "      <td>4.0</td>\n",
       "      <td>6</td>\n",
       "      <td>Auto-S5</td>\n",
       "      <td>4WD</td>\n",
       "      <td>Gasoline</td>\n",
       "      <td>CA</td>\n",
       "      <td>SUV</td>\n",
       "      <td>7.0</td>\n",
       "      <td>15.0</td>\n",
       "      <td>20.0</td>\n",
       "      <td>17.0</td>\n",
       "      <td>4.0</td>\n",
       "      <td>no</td>\n",
       "    </tr>\n",
       "    <tr>\n",
       "      <td>1</td>\n",
       "      <td>ACURA MDX</td>\n",
       "      <td>4.0</td>\n",
       "      <td>6</td>\n",
       "      <td>Auto-S5</td>\n",
       "      <td>4WD</td>\n",
       "      <td>Gasoline</td>\n",
       "      <td>FA</td>\n",
       "      <td>SUV</td>\n",
       "      <td>6.0</td>\n",
       "      <td>15.0</td>\n",
       "      <td>20.0</td>\n",
       "      <td>17.0</td>\n",
       "      <td>4.0</td>\n",
       "      <td>no</td>\n",
       "    </tr>\n",
       "    <tr>\n",
       "      <td>2</td>\n",
       "      <td>ACURA RDX</td>\n",
       "      <td>3.0</td>\n",
       "      <td>4</td>\n",
       "      <td>Auto-S5</td>\n",
       "      <td>4WD</td>\n",
       "      <td>Gasoline</td>\n",
       "      <td>CA</td>\n",
       "      <td>SUV</td>\n",
       "      <td>7.0</td>\n",
       "      <td>17.0</td>\n",
       "      <td>22.0</td>\n",
       "      <td>19.0</td>\n",
       "      <td>5.0</td>\n",
       "      <td>no</td>\n",
       "    </tr>\n",
       "    <tr>\n",
       "      <td>3</td>\n",
       "      <td>ACURA RDX</td>\n",
       "      <td>3.0</td>\n",
       "      <td>4</td>\n",
       "      <td>Auto-S5</td>\n",
       "      <td>4WD</td>\n",
       "      <td>Gasoline</td>\n",
       "      <td>FA</td>\n",
       "      <td>SUV</td>\n",
       "      <td>6.0</td>\n",
       "      <td>17.0</td>\n",
       "      <td>22.0</td>\n",
       "      <td>19.0</td>\n",
       "      <td>5.0</td>\n",
       "      <td>no</td>\n",
       "    </tr>\n",
       "    <tr>\n",
       "      <td>4</td>\n",
       "      <td>ACURA RL</td>\n",
       "      <td>4.0</td>\n",
       "      <td>6</td>\n",
       "      <td>Auto-S5</td>\n",
       "      <td>4WD</td>\n",
       "      <td>Gasoline</td>\n",
       "      <td>CA</td>\n",
       "      <td>midsize car</td>\n",
       "      <td>7.0</td>\n",
       "      <td>16.0</td>\n",
       "      <td>24.0</td>\n",
       "      <td>19.0</td>\n",
       "      <td>5.0</td>\n",
       "      <td>no</td>\n",
       "    </tr>\n",
       "  </tbody>\n",
       "</table>\n",
       "</div>"
      ],
      "text/plain": [
       "       model  displ  cyl    trans drive      fuel cert_region    veh_class  \\\n",
       "0  ACURA MDX    4.0    6  Auto-S5   4WD  Gasoline          CA          SUV   \n",
       "1  ACURA MDX    4.0    6  Auto-S5   4WD  Gasoline          FA          SUV   \n",
       "2  ACURA RDX    3.0    4  Auto-S5   4WD  Gasoline          CA          SUV   \n",
       "3  ACURA RDX    3.0    4  Auto-S5   4WD  Gasoline          FA          SUV   \n",
       "4   ACURA RL    4.0    6  Auto-S5   4WD  Gasoline          CA  midsize car   \n",
       "\n",
       "   air_pollution_score  city_mpg  hwy_mpg  cmb_mpg  greenhouse_gas_score  \\\n",
       "0                  7.0      15.0     20.0     17.0                   4.0   \n",
       "1                  6.0      15.0     20.0     17.0                   4.0   \n",
       "2                  7.0      17.0     22.0     19.0                   5.0   \n",
       "3                  6.0      17.0     22.0     19.0                   5.0   \n",
       "4                  7.0      16.0     24.0     19.0                   5.0   \n",
       "\n",
       "  smartway  \n",
       "0       no  \n",
       "1       no  \n",
       "2       no  \n",
       "3       no  \n",
       "4       no  "
      ]
     },
     "execution_count": 219,
     "metadata": {},
     "output_type": "execute_result"
    }
   ],
   "source": [
    "df_2008.head()"
   ]
  },
  {
   "cell_type": "code",
   "execution_count": 220,
   "metadata": {
    "collapsed": true
   },
   "outputs": [
    {
     "data": {
      "text/html": [
       "<div>\n",
       "<style scoped>\n",
       "    .dataframe tbody tr th:only-of-type {\n",
       "        vertical-align: middle;\n",
       "    }\n",
       "\n",
       "    .dataframe tbody tr th {\n",
       "        vertical-align: top;\n",
       "    }\n",
       "\n",
       "    .dataframe thead th {\n",
       "        text-align: right;\n",
       "    }\n",
       "</style>\n",
       "<table border=\"1\" class=\"dataframe\">\n",
       "  <thead>\n",
       "    <tr style=\"text-align: right;\">\n",
       "      <th></th>\n",
       "      <th>displ</th>\n",
       "      <th>cyl</th>\n",
       "      <th>air_pollution_score</th>\n",
       "      <th>city_mpg</th>\n",
       "      <th>hwy_mpg</th>\n",
       "      <th>cmb_mpg</th>\n",
       "      <th>greenhouse_gas_score</th>\n",
       "    </tr>\n",
       "  </thead>\n",
       "  <tbody>\n",
       "    <tr>\n",
       "      <td>displ</td>\n",
       "      <td>1.000000</td>\n",
       "      <td>0.865737</td>\n",
       "      <td>-0.207904</td>\n",
       "      <td>-0.780898</td>\n",
       "      <td>-0.795137</td>\n",
       "      <td>-0.806073</td>\n",
       "      <td>-0.800388</td>\n",
       "    </tr>\n",
       "    <tr>\n",
       "      <td>cyl</td>\n",
       "      <td>0.865737</td>\n",
       "      <td>1.000000</td>\n",
       "      <td>-0.223736</td>\n",
       "      <td>-0.760487</td>\n",
       "      <td>-0.733034</td>\n",
       "      <td>-0.769103</td>\n",
       "      <td>-0.799904</td>\n",
       "    </tr>\n",
       "    <tr>\n",
       "      <td>air_pollution_score</td>\n",
       "      <td>-0.207904</td>\n",
       "      <td>-0.223736</td>\n",
       "      <td>1.000000</td>\n",
       "      <td>0.338598</td>\n",
       "      <td>0.320882</td>\n",
       "      <td>0.335429</td>\n",
       "      <td>0.281088</td>\n",
       "    </tr>\n",
       "    <tr>\n",
       "      <td>city_mpg</td>\n",
       "      <td>-0.780898</td>\n",
       "      <td>-0.760487</td>\n",
       "      <td>0.338598</td>\n",
       "      <td>1.000000</td>\n",
       "      <td>0.913783</td>\n",
       "      <td>0.982537</td>\n",
       "      <td>0.869994</td>\n",
       "    </tr>\n",
       "    <tr>\n",
       "      <td>hwy_mpg</td>\n",
       "      <td>-0.795137</td>\n",
       "      <td>-0.733034</td>\n",
       "      <td>0.320882</td>\n",
       "      <td>0.913783</td>\n",
       "      <td>1.000000</td>\n",
       "      <td>0.965451</td>\n",
       "      <td>0.874279</td>\n",
       "    </tr>\n",
       "    <tr>\n",
       "      <td>cmb_mpg</td>\n",
       "      <td>-0.806073</td>\n",
       "      <td>-0.769103</td>\n",
       "      <td>0.335429</td>\n",
       "      <td>0.982537</td>\n",
       "      <td>0.965451</td>\n",
       "      <td>1.000000</td>\n",
       "      <td>0.895627</td>\n",
       "    </tr>\n",
       "    <tr>\n",
       "      <td>greenhouse_gas_score</td>\n",
       "      <td>-0.800388</td>\n",
       "      <td>-0.799904</td>\n",
       "      <td>0.281088</td>\n",
       "      <td>0.869994</td>\n",
       "      <td>0.874279</td>\n",
       "      <td>0.895627</td>\n",
       "      <td>1.000000</td>\n",
       "    </tr>\n",
       "  </tbody>\n",
       "</table>\n",
       "</div>"
      ],
      "text/plain": [
       "                         displ       cyl  air_pollution_score  city_mpg  \\\n",
       "displ                 1.000000  0.865737            -0.207904 -0.780898   \n",
       "cyl                   0.865737  1.000000            -0.223736 -0.760487   \n",
       "air_pollution_score  -0.207904 -0.223736             1.000000  0.338598   \n",
       "city_mpg             -0.780898 -0.760487             0.338598  1.000000   \n",
       "hwy_mpg              -0.795137 -0.733034             0.320882  0.913783   \n",
       "cmb_mpg              -0.806073 -0.769103             0.335429  0.982537   \n",
       "greenhouse_gas_score -0.800388 -0.799904             0.281088  0.869994   \n",
       "\n",
       "                       hwy_mpg   cmb_mpg  greenhouse_gas_score  \n",
       "displ                -0.795137 -0.806073             -0.800388  \n",
       "cyl                  -0.733034 -0.769103             -0.799904  \n",
       "air_pollution_score   0.320882  0.335429              0.281088  \n",
       "city_mpg              0.913783  0.982537              0.869994  \n",
       "hwy_mpg               1.000000  0.965451              0.874279  \n",
       "cmb_mpg               0.965451  1.000000              0.895627  \n",
       "greenhouse_gas_score  0.874279  0.895627              1.000000  "
      ]
     },
     "execution_count": 220,
     "metadata": {},
     "output_type": "execute_result"
    }
   ],
   "source": [
    "# df_2008.delete_index() , if the index was created before\n",
    "\n",
    "# Correlation matrix for the numerical features\n",
    "df_2008.corr()"
   ]
  },
  {
   "cell_type": "code",
   "execution_count": 28,
   "metadata": {},
   "outputs": [
    {
     "data": {
      "text/plain": [
       "model                   0\n",
       "displ                   6\n",
       "cyl                     0\n",
       "trans                   0\n",
       "drive                   0\n",
       "fuel                    0\n",
       "cert_region             0\n",
       "veh_class               0\n",
       "air_pollution_score     0\n",
       "city_mpg                0\n",
       "hwy_mpg                 0\n",
       "cmb_mpg                 0\n",
       "greenhouse_gas_score    0\n",
       "smartway                0\n",
       "dtype: int64"
      ]
     },
     "execution_count": 28,
     "metadata": {},
     "output_type": "execute_result"
    }
   ],
   "source": [
    "# Check for null values\n",
    "df_2008.isna().sum()"
   ]
  },
  {
   "cell_type": "code",
   "execution_count": 29,
   "metadata": {},
   "outputs": [],
   "source": [
    "# Drop rows with null vals\n",
    "df_2008.dropna(axis=0,inplace=True)"
   ]
  },
  {
   "cell_type": "code",
   "execution_count": 283,
   "metadata": {},
   "outputs": [
    {
     "data": {
      "text/plain": [
       "<BarContainer object of 8 artists>"
      ]
     },
     "execution_count": 283,
     "metadata": {},
     "output_type": "execute_result"
    },
    {
     "data": {
      "image/png": "[encoded data removed]",
      "text/plain": [
       "<Figure size 720x360 with 1 Axes>"
      ]
     },
     "metadata": {
      "needs_background": "light"
     },
     "output_type": "display_data"
    }
   ],
   "source": [
    "# Plotting the frequency of occurance of a particular vehicle class in dataset\n",
    "fuel_eco_2008 = df_2008.groupby('veh_class').mean()['cmb_mpg']\n",
    "plt.subplots(figsize=(10,5))\n",
    "plt.barh(fuel_eco_2008.index,fuel_eco_2008, )"
   ]
  },
  {
   "cell_type": "code",
   "execution_count": 30,
   "metadata": {},
   "outputs": [],
   "source": [
    "# List of numerical features\n",
    "list = ['displ','cyl','air_pollution_score','city_mpg','hwy_mpg','cmb_mpg','greenhouse_gas_score']"
   ]
  },
  {
   "cell_type": "code",
   "execution_count": 31,
   "metadata": {},
   "outputs": [],
   "source": [
    "# Create a new dataframe with these numerical features\n",
    "new_df = df_2008.iloc[:,[df_2008.columns.get_loc(i) for i in list]]"
   ]
  },
  {
   "cell_type": "code",
   "execution_count": 32,
   "metadata": {},
   "outputs": [
    {
     "data": {
      "text/html": [
       "<div>\n",
       "<style scoped>\n",
       "    .dataframe tbody tr th:only-of-type {\n",
       "        vertical-align: middle;\n",
       "    }\n",
       "\n",
       "    .dataframe tbody tr th {\n",
       "        vertical-align: top;\n",
       "    }\n",
       "\n",
       "    .dataframe thead th {\n",
       "        text-align: right;\n",
       "    }\n",
       "</style>\n",
       "<table border=\"1\" class=\"dataframe\">\n",
       "  <thead>\n",
       "    <tr style=\"text-align: right;\">\n",
       "      <th></th>\n",
       "      <th>displ</th>\n",
       "      <th>cyl</th>\n",
       "      <th>air_pollution_score</th>\n",
       "      <th>city_mpg</th>\n",
       "      <th>hwy_mpg</th>\n",
       "      <th>cmb_mpg</th>\n",
       "      <th>greenhouse_gas_score</th>\n",
       "    </tr>\n",
       "  </thead>\n",
       "  <tbody>\n",
       "    <tr>\n",
       "      <td>count</td>\n",
       "      <td>2201.000000</td>\n",
       "      <td>2201.000000</td>\n",
       "      <td>2201.000000</td>\n",
       "      <td>2201.000000</td>\n",
       "      <td>2201.000000</td>\n",
       "      <td>2201.000000</td>\n",
       "      <td>2201.00000</td>\n",
       "    </tr>\n",
       "    <tr>\n",
       "      <td>mean</td>\n",
       "      <td>4.025443</td>\n",
       "      <td>6.141299</td>\n",
       "      <td>6.300772</td>\n",
       "      <td>16.942753</td>\n",
       "      <td>23.436620</td>\n",
       "      <td>19.287142</td>\n",
       "      <td>5.09632</td>\n",
       "    </tr>\n",
       "    <tr>\n",
       "      <td>std</td>\n",
       "      <td>1.311241</td>\n",
       "      <td>1.822717</td>\n",
       "      <td>1.037674</td>\n",
       "      <td>4.108350</td>\n",
       "      <td>4.954952</td>\n",
       "      <td>4.340116</td>\n",
       "      <td>1.86859</td>\n",
       "    </tr>\n",
       "    <tr>\n",
       "      <td>min</td>\n",
       "      <td>2.000000</td>\n",
       "      <td>2.000000</td>\n",
       "      <td>1.000000</td>\n",
       "      <td>8.000000</td>\n",
       "      <td>12.000000</td>\n",
       "      <td>10.000000</td>\n",
       "      <td>0.00000</td>\n",
       "    </tr>\n",
       "    <tr>\n",
       "      <td>25%</td>\n",
       "      <td>3.000000</td>\n",
       "      <td>4.000000</td>\n",
       "      <td>6.000000</td>\n",
       "      <td>14.000000</td>\n",
       "      <td>19.000000</td>\n",
       "      <td>16.000000</td>\n",
       "      <td>4.00000</td>\n",
       "    </tr>\n",
       "    <tr>\n",
       "      <td>50%</td>\n",
       "      <td>4.000000</td>\n",
       "      <td>6.000000</td>\n",
       "      <td>6.000000</td>\n",
       "      <td>17.000000</td>\n",
       "      <td>24.000000</td>\n",
       "      <td>19.000000</td>\n",
       "      <td>5.00000</td>\n",
       "    </tr>\n",
       "    <tr>\n",
       "      <td>75%</td>\n",
       "      <td>5.000000</td>\n",
       "      <td>8.000000</td>\n",
       "      <td>7.000000</td>\n",
       "      <td>19.000000</td>\n",
       "      <td>27.000000</td>\n",
       "      <td>22.000000</td>\n",
       "      <td>6.00000</td>\n",
       "    </tr>\n",
       "    <tr>\n",
       "      <td>max</td>\n",
       "      <td>7.000000</td>\n",
       "      <td>12.000000</td>\n",
       "      <td>9.500000</td>\n",
       "      <td>48.000000</td>\n",
       "      <td>45.000000</td>\n",
       "      <td>46.000000</td>\n",
       "      <td>10.00000</td>\n",
       "    </tr>\n",
       "  </tbody>\n",
       "</table>\n",
       "</div>"
      ],
      "text/plain": [
       "             displ          cyl  air_pollution_score     city_mpg  \\\n",
       "count  2201.000000  2201.000000          2201.000000  2201.000000   \n",
       "mean      4.025443     6.141299             6.300772    16.942753   \n",
       "std       1.311241     1.822717             1.037674     4.108350   \n",
       "min       2.000000     2.000000             1.000000     8.000000   \n",
       "25%       3.000000     4.000000             6.000000    14.000000   \n",
       "50%       4.000000     6.000000             6.000000    17.000000   \n",
       "75%       5.000000     8.000000             7.000000    19.000000   \n",
       "max       7.000000    12.000000             9.500000    48.000000   \n",
       "\n",
       "           hwy_mpg      cmb_mpg  greenhouse_gas_score  \n",
       "count  2201.000000  2201.000000            2201.00000  \n",
       "mean     23.436620    19.287142               5.09632  \n",
       "std       4.954952     4.340116               1.86859  \n",
       "min      12.000000    10.000000               0.00000  \n",
       "25%      19.000000    16.000000               4.00000  \n",
       "50%      24.000000    19.000000               5.00000  \n",
       "75%      27.000000    22.000000               6.00000  \n",
       "max      45.000000    46.000000              10.00000  "
      ]
     },
     "execution_count": 32,
     "metadata": {},
     "output_type": "execute_result"
    }
   ],
   "source": [
    "# Describing the central tendency of the dataset\n",
    "new_df.describe()"
   ]
  },
  {
   "cell_type": "code",
   "execution_count": 33,
   "metadata": {},
   "outputs": [
    {
     "data": {
      "text/plain": [
       "<matplotlib.legend.Legend at 0x7f9830477c90>"
      ]
     },
     "execution_count": 33,
     "metadata": {},
     "output_type": "execute_result"
    },
    {
     "data": {
      "image/png": "[encoded data removed]",
      "text/plain": [
       "<Figure size 432x288 with 1 Axes>"
      ]
     },
     "metadata": {
      "needs_background": "light"
     },
     "output_type": "display_data"
    }
   ],
   "source": [
    "# Plotting the frequency of occurance of the values of number of cylinders in dataset\n",
    "sns.distplot(df_2008['cyl'],bins=6)\n",
    "plt.xlabel('Number of cylinders');\n",
    "plt.ylabel('frequency');\n",
    "plt.axvline(df_2008['cyl'].mean(),c='r',alpha=0.7,label='mean')\n",
    "plt.legend(loc='best')\n",
    "#df_2008['cyl'].kurtosis()"
   ]
  },
  {
   "cell_type": "code",
   "execution_count": 34,
   "metadata": {},
   "outputs": [
    {
     "data": {
      "text/plain": [
       "4.025442980463426"
      ]
     },
     "execution_count": 34,
     "metadata": {},
     "output_type": "execute_result"
    },
    {
     "data": {
      "image/png": "[encoded data removed]",
      "text/plain": [
       "<Figure size 432x288 with 1 Axes>"
      ]
     },
     "metadata": {
      "needs_background": "light"
     },
     "output_type": "display_data"
    }
   ],
   "source": [
    "# Plotting the frequency of occurance of the values of piston displacement in dataset\n",
    "sns.distplot(df_2008['displ'],bins=6)\n",
    "plt.xlabel('Piston Displacement');\n",
    "plt.ylabel('frequency');\n",
    "plt.axvline(df_2008['displ'].mean(),c='r',alpha=0.7,label='mean')\n",
    "plt.legend(loc='best')\n",
    "df_2008['displ'].mean()"
   ]
  },
  {
   "cell_type": "code",
   "execution_count": 35,
   "metadata": {},
   "outputs": [
    {
     "data": {
      "text/plain": [
       "-0.06137940657839147"
      ]
     },
     "execution_count": 35,
     "metadata": {},
     "output_type": "execute_result"
    },
    {
     "data": {
      "image/png": "[encoded data removed]",
      "text/plain": [
       "<Figure size 432x288 with 1 Axes>"
      ]
     },
     "metadata": {
      "needs_background": "light"
     },
     "output_type": "display_data"
    }
   ],
   "source": [
    "# Plotting the frequency of occurance of the values of highway mileage in mpg in dataset\n",
    "sns.distplot(df_2008['hwy_mpg'],bins=6)\n",
    "plt.xlabel('Miles per gallon highway');\n",
    "plt.ylabel('frequency');\n",
    "plt.axvline(df_2008['hwy_mpg'].mean(),c='r',alpha=0.7,label='mean')\n",
    "plt.legend(loc='best')\n",
    "df_2008['hwy_mpg'].kurtosis()"
   ]
  },
  {
   "cell_type": "code",
   "execution_count": 36,
   "metadata": {},
   "outputs": [
    {
     "data": {
      "text/plain": [
       "1.5183258354924174"
      ]
     },
     "execution_count": 36,
     "metadata": {},
     "output_type": "execute_result"
    },
    {
     "data": {
      "image/png": "[encoded data removed]",
      "text/plain": [
       "<Figure size 432x288 with 1 Axes>"
      ]
     },
     "metadata": {
      "needs_background": "light"
     },
     "output_type": "display_data"
    }
   ],
   "source": [
    "# Plotting the frequency of occurance of the values of highway + city mileage combined in mpg in dataset\n",
    "sns.distplot(df_2008['cmb_mpg'],bins=6)\n",
    "plt.xlabel('Miles per gallon combined');\n",
    "plt.ylabel('frequency');\n",
    "plt.axvline(df_2008['cmb_mpg'].mean(),c='r',alpha=0.7,label='mean')\n",
    "plt.legend(loc='best')\n",
    "df_2008['cmb_mpg'].kurtosis()"
   ]
  },
  {
   "cell_type": "code",
   "execution_count": 37,
   "metadata": {},
   "outputs": [
    {
     "data": {
      "text/plain": [
       "4.230522159657891"
      ]
     },
     "execution_count": 37,
     "metadata": {},
     "output_type": "execute_result"
    },
    {
     "data": {
      "image/png": "[encoded data removed]",
      "text/plain": [
       "<Figure size 432x288 with 1 Axes>"
      ]
     },
     "metadata": {
      "needs_background": "light"
     },
     "output_type": "display_data"
    }
   ],
   "source": [
    "# Plotting the frequency of occurance of the values of city mileage in mpg in dataset\n",
    "sns.distplot(df_2008['city_mpg'],bins=6)\n",
    "plt.xlabel('Miles per gallon city');\n",
    "plt.ylabel('frequency');\n",
    "plt.axvline(df_2008['city_mpg'].mean(),c='r',alpha=0.7,label='mean')\n",
    "plt.legend(loc='best')\n",
    "df_2008['city_mpg'].kurtosis()"
   ]
  },
  {
   "cell_type": "code",
   "execution_count": 38,
   "metadata": {},
   "outputs": [
    {
     "data": {
      "text/plain": [
       "0.029322747907401858"
      ]
     },
     "execution_count": 38,
     "metadata": {},
     "output_type": "execute_result"
    },
    {
     "data": {
      "image/png": "[encoded data removed]",
      "text/plain": [
       "<Figure size 432x288 with 1 Axes>"
      ]
     },
     "metadata": {
      "needs_background": "light"
     },
     "output_type": "display_data"
    }
   ],
   "source": [
    "# Plotting the frequency of occurance of the values of Greenhouse Gas score in dataset\n",
    "sns.distplot(df_2008['greenhouse_gas_score'],bins=6)\n",
    "plt.xlabel('Greenhouse Gas Score');\n",
    "plt.ylabel('frequency');\n",
    "plt.axvline(df_2008['greenhouse_gas_score'].mean(),c='r',alpha=0.7,label='mean')\n",
    "plt.legend(loc='best')\n",
    "df_2008['greenhouse_gas_score'].kurtosis()"
   ]
  },
  {
   "cell_type": "markdown",
   "metadata": {},
   "source": [
    "#### Outliers"
   ]
  },
  {
   "cell_type": "code",
   "execution_count": 39,
   "metadata": {},
   "outputs": [
    {
     "data": {
      "text/plain": [
       "<matplotlib.axes._subplots.AxesSubplot at 0x7f9834fc6bd0>"
      ]
     },
     "execution_count": 39,
     "metadata": {},
     "output_type": "execute_result"
    },
    {
     "data": {
      "image/png": "[encoded data removed]",
      "text/plain": [
       "<Figure size 432x288 with 1 Axes>"
      ]
     },
     "metadata": {
      "needs_background": "light"
     },
     "output_type": "display_data"
    }
   ],
   "source": [
    "# Before outlier removal\n",
    "sns.boxplot(new_df['cmb_mpg'])\n",
    "#sns.swarmplot(new_df['greenhouse_gas_score'],new_df['displ'])"
   ]
  },
  {
   "cell_type": "code",
   "execution_count": 40,
   "metadata": {},
   "outputs": [],
   "source": [
    "# Cosidering the observations 3 standard deviations away from the mean\n",
    "z_scores = stats.zscore(new_df)\n",
    "abs_z_scores = np.abs(z_scores)\n",
    "filtered_entries = (abs_z_scores < 3).all(axis=1)\n",
    "new_df = new_df[filtered_entries]"
   ]
  },
  {
   "cell_type": "code",
   "execution_count": 41,
   "metadata": {},
   "outputs": [
    {
     "data": {
      "text/plain": [
       "0.101317582916856"
      ]
     },
     "execution_count": 41,
     "metadata": {},
     "output_type": "execute_result"
    }
   ],
   "source": [
    "# 89.9% of observations filtered which fall within 3 SD from the mean, rest is excluded\n",
    "1 - np.mean(filtered_entries)"
   ]
  },
  {
   "cell_type": "code",
   "execution_count": 42,
   "metadata": {},
   "outputs": [
    {
     "data": {
      "text/plain": [
       "<matplotlib.axes._subplots.AxesSubplot at 0x7f98350857d0>"
      ]
     },
     "execution_count": 42,
     "metadata": {},
     "output_type": "execute_result"
    },
    {
     "data": {
      "image/png": "[encoded data removed]",
      "text/plain": [
       "<Figure size 432x288 with 1 Axes>"
      ]
     },
     "metadata": {
      "needs_background": "light"
     },
     "output_type": "display_data"
    }
   ],
   "source": [
    "# After outlier removal\n",
    "sns.boxplot(new_df['cmb_mpg'])\n",
    "#sns.swarmplot(new_df['greenhouse_gas_score'],new_df['displ'])"
   ]
  },
  {
   "cell_type": "code",
   "execution_count": 45,
   "metadata": {},
   "outputs": [],
   "source": [
    "# Converting the dataframe into an array\n",
    "new_df_array = np.array(new_df)"
   ]
  },
  {
   "cell_type": "code",
   "execution_count": 46,
   "metadata": {},
   "outputs": [],
   "source": [
    "# Scaling the values\n",
    "from sklearn.preprocessing import StandardScaler\n",
    "sc = StandardScaler()\n",
    "new_df_array = sc.fit_transform(new_df_array)"
   ]
  },
  {
   "cell_type": "code",
   "execution_count": 47,
   "metadata": {},
   "outputs": [
    {
     "data": {
      "text/plain": [
       "array([0.75017345, 0.89255173, 0.95179649, 0.9719105 , 0.98907164,\n",
       "       0.99925928, 1.        ])"
      ]
     },
     "execution_count": 47,
     "metadata": {},
     "output_type": "execute_result"
    },
    {
     "data": {
      "image/png": "[encoded data removed]",
      "text/plain": [
       "<Figure size 432x288 with 1 Axes>"
      ]
     },
     "metadata": {
      "needs_background": "light"
     },
     "output_type": "display_data"
    }
   ],
   "source": [
    "# Principal Component Analysis\n",
    "from sklearn.decomposition import PCA\n",
    "pca = PCA()\n",
    "pca.fit_transform(new_df_array) # Fit transform not done here\n",
    "explained_variance = pca.explained_variance_ratio_\n",
    "\n",
    "var=np.cumsum(np.round(pca.explained_variance_ratio_, decimals=3)*100)\n",
    "plt.xlabel('Number of Featurs')\n",
    "plt.ylabel('Explained variance in %')\n",
    "plt.ylim(70,101)\n",
    "plt.title('Principal Component Analysis')\n",
    "plt.style.context('seaborn-whitegrid')\n",
    "plt.plot(var)\n",
    "\n",
    "explained_variance.cumsum()"
   ]
  },
  {
   "cell_type": "code",
   "execution_count": 48,
   "metadata": {},
   "outputs": [
    {
     "data": {
      "text/plain": [
       "array([0.75017345, 0.89255173, 0.95179649])"
      ]
     },
     "execution_count": 48,
     "metadata": {},
     "output_type": "execute_result"
    },
    {
     "data": {
      "image/png": "[encoded data removed]",
      "text/plain": [
       "<Figure size 432x288 with 1 Axes>"
      ]
     },
     "metadata": {
      "needs_background": "light"
     },
     "output_type": "display_data"
    }
   ],
   "source": [
    "# Principal Component Analysis with number of components = 3\n",
    "from sklearn.decomposition import PCA\n",
    "pca = PCA(n_components=3) \n",
    "new_df_array = pca.fit_transform(new_df_array) # Fit transform done here after selecting components\n",
    "explained_variance = pca.explained_variance_ratio_\n",
    "\n",
    "var=np.cumsum(np.round(pca.explained_variance_ratio_, decimals=3)*100)\n",
    "plt.xlabel('Number of Featurs')\n",
    "plt.ylabel('Explained variance in %')\n",
    "plt.ylim(70,101)\n",
    "plt.title('Principal Component Analysis')\n",
    "plt.style.context('seaborn-whitegrid')\n",
    "plt.plot(var)\n",
    "\n",
    "explained_variance.cumsum()"
   ]
  },
  {
   "cell_type": "code",
   "execution_count": 49,
   "metadata": {},
   "outputs": [
    {
     "data": {
      "text/plain": [
       "Text(0, 0.5, 'WCSS')"
      ]
     },
     "execution_count": 49,
     "metadata": {},
     "output_type": "execute_result"
    },
    {
     "data": {
      "image/png": "[encoded data removed]",
      "text/plain": [
       "<Figure size 432x288 with 1 Axes>"
      ]
     },
     "metadata": {
      "needs_background": "light"
     },
     "output_type": "display_data"
    }
   ],
   "source": [
    "# Finding the optimal number of clusters\n",
    "# The plot explains k vs WCSS values\n",
    "# WCSS: Weighted Cluster Sum of Squares\n",
    "wcss = []\n",
    "\n",
    "for center in range(1,15):\n",
    "    kmeans = KMeans(center, init='k-means++')\n",
    "    model = kmeans.fit(new_df_array)\n",
    "    wcss.append(model.inertia_)\n",
    "    \n",
    "centers = range(1,15)\n",
    "plt.plot(centers, wcss, linestyle='--', marker='o')\n",
    "plt.xlabel('k')\n",
    "plt.ylabel('WCSS')"
   ]
  },
  {
   "cell_type": "code",
   "execution_count": 50,
   "metadata": {},
   "outputs": [],
   "source": [
    "# Using KMeans++\n",
    "\n",
    "# Instantiating the model\n",
    "kmeans_3 = KMeans(3,init='k-means++')\n",
    "\n",
    "# Fitting the model\n",
    "model_3 = kmeans_3.fit(new_df_array)\n",
    "\n",
    "# Label_4 is the dependent variable which we created\n",
    "label_3 = model_3.predict(new_df_array) # or model_4.labels_"
   ]
  },
  {
   "cell_type": "code",
   "execution_count": 51,
   "metadata": {
    "scrolled": true
   },
   "outputs": [
    {
     "data": {
      "text/plain": [
       "array([[-3.09463877,  0.14713227, -0.225667  ],\n",
       "       [ 2.46476043,  0.04150648,  0.04055239],\n",
       "       [-0.25249306, -0.12365118,  0.10056646]])"
      ]
     },
     "execution_count": 51,
     "metadata": {},
     "output_type": "execute_result"
    }
   ],
   "source": [
    "# Cluster centers\n",
    "model_3.cluster_centers_"
   ]
  },
  {
   "cell_type": "code",
   "execution_count": 52,
   "metadata": {},
   "outputs": [
    {
     "data": {
      "text/plain": [
       "Text(0.5, 0, 'column 3')"
      ]
     },
     "execution_count": 52,
     "metadata": {},
     "output_type": "execute_result"
    },
    {
     "data": {
      "image/png": "[encoded data removed]",
      "text/plain": [
       "<Figure size 432x288 with 1 Axes>"
      ]
     },
     "metadata": {
      "needs_background": "light"
     },
     "output_type": "display_data"
    }
   ],
   "source": [
    "# Plotting the principal components using k-means clustering with k = 3\n",
    "fig = plt.figure();\n",
    "ax = Axes3D(fig)\n",
    "ax.scatter(new_df_array[:, 0], new_df_array[:, 1], new_df_array[:, 2], c=label_3, cmap='rainbow',);\n",
    "ax.set_xlabel('column 1')\n",
    "ax.set_ylabel('column 2')\n",
    "ax.set_zlabel('column 3')"
   ]
  },
  {
   "cell_type": "code",
   "execution_count": 54,
   "metadata": {},
   "outputs": [],
   "source": [
    "# K Means clustering with k = 2\n",
    "kmeans_2 = KMeans(2)\n",
    "model_2 = kmeans_2.fit(new_df_array)\n",
    "# Label_4 is the dependent variable which we created\n",
    "label_2 = model_2.predict(new_df_array) # or model_4.labels_"
   ]
  },
  {
   "cell_type": "code",
   "execution_count": 55,
   "metadata": {},
   "outputs": [
    {
     "data": {
      "text/plain": [
       "Text(0.5, 0, 'column 3')"
      ]
     },
     "execution_count": 55,
     "metadata": {},
     "output_type": "execute_result"
    },
    {
     "data": {
      "image/png": "[encoded data removed]",
      "text/plain": [
       "<Figure size 432x288 with 1 Axes>"
      ]
     },
     "metadata": {
      "needs_background": "light"
     },
     "output_type": "display_data"
    }
   ],
   "source": [
    "# Plotting the principal components using k-means clustering with k = 2\n",
    "fig = plt.figure();\n",
    "ax = Axes3D(fig)\n",
    "ax.scatter(new_df_array[:, 0], new_df_array[:, 1], new_df_array[:, 2], c=label_2, cmap='rainbow');\n",
    "ax.set_xlabel('column 1')\n",
    "ax.set_ylabel('column 2')\n",
    "ax.set_zlabel('column 3')"
   ]
  },
  {
   "cell_type": "code",
   "execution_count": 120,
   "metadata": {},
   "outputs": [
    {
     "data": {
      "text/plain": [
       "<matplotlib.axes._subplots.AxesSubplot at 0x7fe74d8295d0>"
      ]
     },
     "execution_count": 120,
     "metadata": {},
     "output_type": "execute_result"
    },
    {
     "data": {
      "image/png": "[encoded data removed]",
      "text/plain": [
       "<Figure size 432x288 with 2 Axes>"
      ]
     },
     "metadata": {
      "needs_background": "light"
     },
     "output_type": "display_data"
    }
   ],
   "source": [
    "# Plot a heatmap for the new dataframe\n",
    "sns.heatmap(new_df.corr(),annot=True)"
   ]
  },
  {
   "cell_type": "code",
   "execution_count": 354,
   "metadata": {},
   "outputs": [
    {
     "data": {
      "image/png": "[encoded data removed]",
      "text/plain": [
       "<Figure size 432x288 with 1 Axes>"
      ]
     },
     "metadata": {
      "needs_background": "light"
     },
     "output_type": "display_data"
    }
   ],
   "source": [
    "# Scatterplot to visualize relationship between Greenhouse Gas Score and Piston Displacement\n",
    "plt.scatter(new_df['greenhouse_gas_score'],new_df['displ']);\n",
    "plt.xlabel('greenhouse gas score');\n",
    "plt.ylabel('Piston displacement');"
   ]
  },
  {
   "cell_type": "code",
   "execution_count": 355,
   "metadata": {},
   "outputs": [
    {
     "data": {
      "image/png": "[encoded data removed]",
      "text/plain": [
       "<Figure size 432x288 with 1 Axes>"
      ]
     },
     "metadata": {
      "needs_background": "light"
     },
     "output_type": "display_data"
    }
   ],
   "source": [
    "# Scatterplot to visualize relationship between Greenhouse Gas Score and Combined Miles per Gallon\n",
    "plt.scatter(new_df['greenhouse_gas_score'],new_df['cmb_mpg']);\n",
    "plt.xlabel('greenhouse gas score');\n",
    "plt.ylabel('Miles per gallon combined');"
   ]
  },
  {
   "cell_type": "code",
   "execution_count": 356,
   "metadata": {},
   "outputs": [
    {
     "data": {
      "image/png": "[encoded data removed]",
      "text/plain": [
       "<Figure size 432x288 with 1 Axes>"
      ]
     },
     "metadata": {
      "needs_background": "light"
     },
     "output_type": "display_data"
    }
   ],
   "source": [
    "# Scatterplot to visualize relationship between Greenhouse Gas Score and Air pollution score\n",
    "plt.scatter(new_df['greenhouse_gas_score'],new_df['air_pollution_score']);\n",
    "plt.xlabel('greenhouse gas score');\n",
    "plt.ylabel('air pollution score');"
   ]
  },
  {
   "cell_type": "code",
   "execution_count": 359,
   "metadata": {},
   "outputs": [
    {
     "data": {
      "image/png": "[encoded data removed]",
      "text/plain": [
       "<Figure size 432x288 with 1 Axes>"
      ]
     },
     "metadata": {
      "needs_background": "light"
     },
     "output_type": "display_data"
    }
   ],
   "source": [
    "# Scatterplot to visualize relationship between Hisghway Miles per Gallon and Combined Miles per Gallon\n",
    "plt.scatter(new_df['city_mpg'],new_df['cmb_mpg']);\n",
    "plt.xlabel('Miles per gallon highway');\n",
    "plt.ylabel('Miles per gallon combined');"
   ]
  },
  {
   "cell_type": "code",
   "execution_count": 360,
   "metadata": {},
   "outputs": [
    {
     "data": {
      "image/png": "[encoded data removed]",
      "text/plain": [
       "<Figure size 432x288 with 1 Axes>"
      ]
     },
     "metadata": {
      "needs_background": "light"
     },
     "output_type": "display_data"
    }
   ],
   "source": [
    "# Scatterplot to visualize relationship between Piston displacement and Combined Miles per Gallon\n",
    "plt.scatter(new_df['displ'],new_df['cmb_mpg']);\n",
    "plt.xlabel('Piston displacement');\n",
    "plt.ylabel('Miles per gallon combined');"
   ]
  },
  {
   "cell_type": "code",
   "execution_count": 361,
   "metadata": {},
   "outputs": [
    {
     "data": {
      "image/png": "[encoded data removed]",
      "text/plain": [
       "<Figure size 432x288 with 1 Axes>"
      ]
     },
     "metadata": {
      "needs_background": "light"
     },
     "output_type": "display_data"
    }
   ],
   "source": [
    "# Scatterplot to visualize relationship between Piston Displacement and Air Pollution Score\n",
    "plt.scatter(new_df['displ'],new_df['air_pollution_score']);\n",
    "plt.xlabel('Piston displacement');\n",
    "plt.ylabel('air pollution score');"
   ]
  },
  {
   "cell_type": "code",
   "execution_count": null,
   "metadata": {},
   "outputs": [],
   "source": []
  },
  {
   "cell_type": "code",
   "execution_count": null,
   "metadata": {},
   "outputs": [],
   "source": []
  }
 ],
 "metadata": {
  "kernelspec": {
   "display_name": "Python 3",
   "language": "python",
   "name": "python3"
  },
  "language_info": {
   "codemirror_mode": {
    "name": "ipython",
    "version": 3
   },
   "file_extension": ".py",
   "mimetype": "text/x-python",
   "name": "python",
   "nbconvert_exporter": "python",
   "pygments_lexer": "ipython3",
   "version": "3.7.4"
  }
 },
 "nbformat": 4,
 "nbformat_minor": 2
}
